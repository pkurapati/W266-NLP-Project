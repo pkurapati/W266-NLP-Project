{
 "cells": [
  {
   "cell_type": "code",
   "execution_count": 43,
   "metadata": {},
   "outputs": [],
   "source": [
    "import pandas as pd\n",
    "import numpy as np\n",
    "from sklearn.model_selection import train_test_split\n",
    "from sklearn.naive_bayes import GaussianNB\n",
    "from sklearn.linear_model import LinearRegression\n",
    "from sklearn.ensemble import RandomForestRegressor\n",
    "from sklearn.linear_model import LogisticRegression"
   ]
  },
  {
   "cell_type": "code",
   "execution_count": 11,
   "metadata": {},
   "outputs": [],
   "source": [
    "unpickled_df = pd.read_pickle(\"./engineered_data.pkl\")"
   ]
  },
  {
   "cell_type": "code",
   "execution_count": 12,
   "metadata": {},
   "outputs": [
    {
     "data": {
      "text/plain": [
       "Index(['words_length_4', 'words_length_6', 'words_length_8', 'words_length_10',\n",
       "       'words_length_12', 'mean_word_length', 'variance_word_length',\n",
       "       'type_token_ratio', 'essay_length', 'num_words', 'num_sentences',\n",
       "       'mean_sentence_length', 'num_characters', 'fourth_root_num_characters',\n",
       "       'num_commas', 'num_periods', 'num_exclaim', 'num_question',\n",
       "       'num_semicolon', 'num_colon', 'vocab_size', 'very_short_sentences',\n",
       "       'short_sentences', 'medium_sentences', 'long_sentences',\n",
       "       'variance_sentence_length', 'max_height', 'sum_heights', 'mean_heights',\n",
       "       'pos_trigram_ratio', 'pos_fourgram_ratio', 'mean_trigram_tfTF',\n",
       "       'connectives', 'score', 'essay_set', 'essay_id'],\n",
       "      dtype='object')"
      ]
     },
     "execution_count": 12,
     "metadata": {},
     "output_type": "execute_result"
    }
   ],
   "source": [
    "unpickled_df.columns"
   ]
  },
  {
   "cell_type": "code",
   "execution_count": 35,
   "metadata": {},
   "outputs": [],
   "source": [
    "# feature_data = .drop('mean_trigram_tfTF', axis=1)\n",
    "trainingdata = unpickled_df[unpickled_df.essay_set < 7]\n",
    "trainingdata = trainingdata.dropna()\n",
    "# classification_data  = classification_data.dropna(subset=['domain1_score'])"
   ]
  },
  {
   "cell_type": "code",
   "execution_count": 36,
   "metadata": {},
   "outputs": [],
   "source": [
    "X, Y = trainingdata.iloc[:,:-3], trainingdata.loc[:,'score']"
   ]
  },
  {
   "cell_type": "code",
   "execution_count": 37,
   "metadata": {},
   "outputs": [],
   "source": [
    "x_train,x_test,y_train,y_test = train_test_split(np.asarray(X), np.asarray(Y),test_size=0.2)"
   ]
  },
  {
   "cell_type": "code",
   "execution_count": 118,
   "metadata": {},
   "outputs": [],
   "source": [
    "# null_columns=classification_data.columns[classification_data.isnull().any()]\n",
    "# classification_data[null_columns].isnull().sum()"
   ]
  },
  {
   "cell_type": "code",
   "execution_count": 38,
   "metadata": {},
   "outputs": [
    {
     "name": "stdout",
     "output_type": "stream",
     "text": [
      "0\n",
      "0\n"
     ]
    }
   ],
   "source": [
    "print(sum(np.isnan(y_train)))\n",
    "print(sum(np.isnan(y_test)))"
   ]
  },
  {
   "cell_type": "code",
   "execution_count": 39,
   "metadata": {},
   "outputs": [
    {
     "name": "stdout",
     "output_type": "stream",
     "text": [
      "(8547, 33)\n",
      "(2137, 33)\n",
      "(8547,)\n",
      "(2137,)\n"
     ]
    }
   ],
   "source": [
    "print(x_train.shape)\n",
    "print(x_test.shape)\n",
    "print(y_train.shape)\n",
    "print(y_test.shape)"
   ]
  },
  {
   "cell_type": "code",
   "execution_count": 44,
   "metadata": {},
   "outputs": [],
   "source": [
    "# gnb = GaussianNB()\n",
    "lr = LinearRegression(fit_intercept=True)\n",
    "rf = RandomForestRegressor(n_estimators = 100)"
   ]
  },
  {
   "cell_type": "code",
   "execution_count": 45,
   "metadata": {},
   "outputs": [
    {
     "data": {
      "text/plain": [
       "RandomForestRegressor(bootstrap=True, criterion='mse', max_depth=None,\n",
       "           max_features='auto', max_leaf_nodes=None,\n",
       "           min_impurity_decrease=0.0, min_impurity_split=None,\n",
       "           min_samples_leaf=1, min_samples_split=2,\n",
       "           min_weight_fraction_leaf=0.0, n_estimators=100, n_jobs=None,\n",
       "           oob_score=False, random_state=None, verbose=0, warm_start=False)"
      ]
     },
     "execution_count": 45,
     "metadata": {},
     "output_type": "execute_result"
    }
   ],
   "source": [
    "# gnb.fit(x_train, y_train)\n",
    "lr.fit(x_train, y_train)\n",
    "rf.fit(x_train, y_train)"
   ]
  },
  {
   "cell_type": "code",
   "execution_count": 47,
   "metadata": {},
   "outputs": [],
   "source": [
    "scoringFrame_baselines = pd.DataFrame([y_test,rf.predict(x_test), lr.predict(x_test)]).transpose()\n",
    "scoringFrame_baselines.columns = ['actual','rf','lr']"
   ]
  },
  {
   "cell_type": "code",
   "execution_count": 48,
   "metadata": {},
   "outputs": [],
   "source": [
    "#Cohen Kappa score as defined by the kaggle challenge/wikipedia\n",
    "def CohenKappa(actual, predict):\n",
    "    CohenDF = pd.DataFrame([actual.astype(np.double).round(), np.around(predict.astype(np.double))]).transpose()\n",
    "    count = len(CohenDF)\n",
    "    correct = len(CohenDF[CohenDF[actual.name] == CohenDF[predict.name]])\n",
    "    acc = correct / count\n",
    "    pe = 0\n",
    "    for value in CohenDF[actual.name].unique():\n",
    "        pe += len(CohenDF[CohenDF[actual.name] == value]) * len(CohenDF[CohenDF[predict.name] == value])\n",
    "    pe = pe / np.square(count)\n",
    "    return(1 - (1-acc)/(1-pe))"
   ]
  },
  {
   "cell_type": "code",
   "execution_count": 52,
   "metadata": {},
   "outputs": [
    {
     "name": "stdout",
     "output_type": "stream",
     "text": [
      "RF MSE, Cohen, accuracy: 0.025454028317023612, 0.6265134034053828\n",
      "LR MSE, Cohen: 0.0285115094271961, 0.5653226153369811\n"
     ]
    }
   ],
   "source": [
    "from sklearn.metrics import accuracy_score, mean_squared_error\n",
    "\n",
    "# print(\"GNB MSE, Cohen, accuracy: {0}, {1}, {2}\".format(mean_squared_error(scoringFrame_baselines.actual, scoringFrame_baselines.gnb),\n",
    "#                                        CohenKappa(scoringFrame_baselines.actual, scoringFrame_baselines.gnb),\n",
    "#                                                  accuracy_score(scoringFrame_baselines.actual, scoringFrame_baselines.gnb)))\n",
    "\n",
    "print(\"RF MSE, Cohen, accuracy: {0}, {1}\".format(mean_squared_error(scoringFrame_baselines.actual, scoringFrame_baselines.rf),\n",
    "                                       CohenKappa(scoringFrame_baselines.actual, scoringFrame_baselines.rf)))\n",
    "#                                       accuracy_score(scoringFrame_baselines.actual, scoringFrame_baselines.rf)))\n",
    "\n",
    "print(\"LR MSE, Cohen: {0}, {1}\".format(mean_squared_error(scoringFrame_baselines.actual, scoringFrame_baselines.lr),\n",
    "                                       CohenKappa(scoringFrame_baselines.actual, scoringFrame_baselines.lr)))"
   ]
  },
  {
   "cell_type": "code",
   "execution_count": null,
   "metadata": {},
   "outputs": [],
   "source": []
  }
 ],
 "metadata": {
  "kernelspec": {
   "display_name": "Python 3",
   "language": "python",
   "name": "python3"
  },
  "language_info": {
   "codemirror_mode": {
    "name": "ipython",
    "version": 3
   },
   "file_extension": ".py",
   "mimetype": "text/x-python",
   "name": "python",
   "nbconvert_exporter": "python",
   "pygments_lexer": "ipython3",
   "version": "3.6.6"
  }
 },
 "nbformat": 4,
 "nbformat_minor": 2
}
