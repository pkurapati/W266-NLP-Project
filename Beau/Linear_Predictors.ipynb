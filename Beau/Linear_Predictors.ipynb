{
 "cells": [
  {
   "cell_type": "markdown",
   "metadata": {},
   "source": [
    "# Import packages"
   ]
  },
  {
   "cell_type": "code",
   "execution_count": 24,
   "metadata": {},
   "outputs": [],
   "source": [
    "import pandas as pd\n",
    "import numpy as np\n",
    "from sklearn.model_selection import train_test_split\n",
    "from sklearn.linear_model import LinearRegression\n",
    "from sklearn.ensemble import RandomForestRegressor\n",
    "from sklearn.linear_model import LogisticRegression\n",
    "from sklearn import svm\n",
    "from sklearn.model_selection import GridSearchCV\n",
    "from sklearn.model_selection import RandomizedSearchCV\n",
    "from sklearn.metrics import cohen_kappa_score\n",
    "from sklearn.metrics import accuracy_score\n",
    "import matplotlib.pyplot as plt\n",
    "import seaborn as sns\n",
    "\n",
    "from scipy.stats import randint as sp_randint"
   ]
  },
  {
   "cell_type": "markdown",
   "metadata": {},
   "source": [
    "# Unpickle engineered features"
   ]
  },
  {
   "cell_type": "code",
   "execution_count": 25,
   "metadata": {},
   "outputs": [],
   "source": [
    "unpickled_df = pd.read_pickle(\"./engineered_data.pkl\")"
   ]
  },
  {
   "cell_type": "markdown",
   "metadata": {},
   "source": [
    "# Mark each essay with its scoring scale"
   ]
  },
  {
   "cell_type": "code",
   "execution_count": 26,
   "metadata": {},
   "outputs": [],
   "source": [
    "trainingdata = unpickled_df\n",
    "DivSeries = pd.DataFrame({'div': [12,5,3,3,4,4,25,50],'essay_set':[1,2,3,4,5,6,7,8]})\n",
    "trainingdata = trainingdata.merge(DivSeries, on='essay_set')\n",
    "cols_at_end = ['score']\n",
    "trainingdata = trainingdata[[c for c in trainingdata if c not in cols_at_end] + [c for c in cols_at_end if c in trainingdata]]\n",
    "trainingdata = trainingdata.dropna()"
   ]
  },
  {
   "cell_type": "markdown",
   "metadata": {},
   "source": [
    "# Split into train and test data"
   ]
  },
  {
   "cell_type": "code",
   "execution_count": 27,
   "metadata": {},
   "outputs": [],
   "source": [
    "traincomp, testcomp = train_test_split(trainingdata,random_state=42,test_size=0.2)\n",
    "\n",
    "set_train = traincomp.loc[:,['essay_set','essay_id','div']]  # setting asside essay set and scale\n",
    "set_test = testcomp.loc[:,['essay_set','essay_id','div']] # setting asside essay set and scale\n",
    "\n",
    "x_train = np.asarray(traincomp.iloc[:,:-3])\n",
    "y_train = np.reshape(np.asarray(traincomp.loc[:,['score']]),(-1,))\n",
    "\n",
    "x_test = np.asarray(testcomp.iloc[:,:-3])\n",
    "y_test = np.reshape(np.asarray(testcomp.loc[:,['score']]),(-1,))"
   ]
  },
  {
   "cell_type": "markdown",
   "metadata": {},
   "source": [
    "# Specify and fit models"
   ]
  },
  {
   "cell_type": "code",
   "execution_count": 28,
   "metadata": {},
   "outputs": [],
   "source": [
    "lr = LinearRegression(fit_intercept=True)\n",
    "rf = RandomForestRegressor(n_estimators=500, min_samples_split=10, min_samples_leaf=3, max_features='auto',max_depth=44, bootstrap=True, random_state=42)\n",
    "sv = svm.SVR(kernel='rbf',C=0.1,gamma='scale')"
   ]
  },
  {
   "cell_type": "code",
   "execution_count": 29,
   "metadata": {},
   "outputs": [
    {
     "data": {
      "text/plain": [
       "SVR(C=0.1, cache_size=200, coef0=0.0, degree=3, epsilon=0.1, gamma='scale',\n",
       "  kernel='rbf', max_iter=-1, shrinking=True, tol=0.001, verbose=False)"
      ]
     },
     "execution_count": 29,
     "metadata": {},
     "output_type": "execute_result"
    }
   ],
   "source": [
    "lr.fit(x_train, y_train)\n",
    "rf.fit(x_train, y_train)\n",
    "sv.fit(x_train, y_train)"
   ]
  },
  {
   "cell_type": "markdown",
   "metadata": {},
   "source": [
    "# Define metrics for evaluation"
   ]
  },
  {
   "cell_type": "code",
   "execution_count": 30,
   "metadata": {},
   "outputs": [],
   "source": [
    "def RMSE(actual, predict):\n",
    "    diff = actual - predict\n",
    "    diff = sum(diff**2) / len(actual)\n",
    "    return np.sqrt(diff)\n",
    "\n",
    "def evaluate(model, x_test, y_test, div, essay_set):\n",
    "    predictions = model.predict(x_test)\n",
    "    y_rescaled = y_test * div\n",
    "    y_rescaled = y_rescaled.astype(int)\n",
    "    predictions_rescaled = predictions * div\n",
    "    predictions_round = predictions_rescaled.round()\n",
    "    predictions_round = predictions_round.astype(int)\n",
    "    rmse = RMSE(y_rescaled, predictions_round)\n",
    "    cohen = cohen_kappa_score(y_rescaled, predictions_round, weights=None)\n",
    "    quad_cohen = cohen_kappa_score(y_rescaled, predictions_round, weights='quadratic')\n",
    "    accuracy = accuracy_score(y_rescaled, predictions_round)\n",
    "    return {'rmse':rmse,'kappa':cohen,'quad_kappa':quad_cohen,'accuracy':accuracy}"
   ]
  },
  {
   "cell_type": "markdown",
   "metadata": {},
   "source": [
    "# Score models"
   ]
  },
  {
   "cell_type": "code",
   "execution_count": 31,
   "metadata": {},
   "outputs": [
    {
     "name": "stdout",
     "output_type": "stream",
     "text": [
      "Linear Regression RMSE: 2.02250435917868 Cohen Kappa: 0.4001262423530352 Cohen QW-Kappa: 0.9741565966034074 Accuracy: 0.4761171032357473\n",
      "Random Forests RMSE: 1.5422903345729375 Cohen Kappa: 0.4665936551347196 Cohen QW-Kappa: 0.9843781904283819 Accuracy: 0.5342835130970724\n",
      "Support Vector RMSE: 1.8743257647535838 Cohen Kappa: 0.40089386711048913 Cohen QW-Kappa: 0.9774461651725512 Accuracy: 0.4761171032357473\n"
     ]
    }
   ],
   "source": [
    "lr_metrics = evaluate(lr,x_test,y_test,div=set_test.loc[:,'div'],essay_set=set_test.loc[:,'essay_set'])\n",
    "rf_metrics = evaluate(rf,x_test,y_test,div=set_test.loc[:,'div'],essay_set=set_test.loc[:,'essay_set'])\n",
    "sv_metrics = evaluate(sv,x_test,y_test,div=set_test.loc[:,'div'],essay_set=set_test.loc[:,'essay_set'])\n",
    "print(\"Linear Regression RMSE: {0} Cohen Kappa: {1} Cohen QW-Kappa: {2} Accuracy: {3}\".format(lr_metrics['rmse'], lr_metrics['kappa'],lr_metrics['quad_kappa'],lr_metrics['accuracy']))\n",
    "print(\"Random Forests RMSE: {0} Cohen Kappa: {1} Cohen QW-Kappa: {2} Accuracy: {3}\".format(rf_metrics['rmse'], rf_metrics['kappa'], rf_metrics['quad_kappa'],rf_metrics['accuracy']))\n",
    "print(\"Support Vector RMSE: {0} Cohen Kappa: {1} Cohen QW-Kappa: {2} Accuracy: {3}\".format(sv_metrics['rmse'], sv_metrics['kappa'],sv_metrics['quad_kappa'],sv_metrics['accuracy']))"
   ]
  },
  {
   "cell_type": "markdown",
   "metadata": {},
   "source": [
    "# Score models by essay set"
   ]
  },
  {
   "cell_type": "code",
   "execution_count": 33,
   "metadata": {},
   "outputs": [
    {
     "name": "stdout",
     "output_type": "stream",
     "text": [
      "   essay_set      RMSE  Normalized RMSE     Kappa  QW_Kappa  Accuracy\n",
      "0        1.0  1.113749         0.089623  0.185354  0.655447  0.374317\n",
      "1        2.0  0.685994         0.125353  0.341279  0.567920  0.598930\n",
      "2        3.0  0.689962         0.208260  0.338168  0.541992  0.577844\n",
      "3        4.0  0.679052         0.209461  0.364771  0.599695  0.586111\n",
      "4        5.0  0.623222         0.144039  0.438439  0.726207  0.620290\n",
      "5        6.0  0.755929         0.176397  0.275904  0.543264  0.558201\n",
      "6        7.0  3.162278         0.125698  0.049620  0.698724  0.115894\n",
      "7        8.0  6.778024         0.133548  0.032291  0.359403  0.080292\n",
      "   essay_set      RMSE  Normalized RMSE     Kappa  QW_Kappa  Accuracy\n",
      "0        1.0  0.837965         0.064856  0.337357  0.813753  0.500000\n",
      "1        2.0  0.573478         0.104128  0.525508  0.697749  0.708556\n",
      "2        3.0  0.670151         0.192519  0.427363  0.609564  0.628743\n",
      "3        4.0  0.654047         0.188725  0.451525  0.696475  0.627778\n",
      "4        5.0  0.594662         0.129765  0.524375  0.790430  0.663768\n",
      "5        6.0  0.747129         0.169032  0.328884  0.639746  0.560847\n",
      "6        7.0  3.053063         0.121255  0.101793  0.724410  0.162252\n",
      "7        8.0  4.135479         0.081432  0.047277  0.685697  0.094891\n",
      "   essay_set      RMSE  Normalized RMSE     Kappa  QW_Kappa  Accuracy\n",
      "0        1.0  1.166471         0.091360  0.178044  0.586956  0.374317\n",
      "1        2.0  0.763471         0.136609  0.244300  0.429838  0.548128\n",
      "2        3.0  0.674603         0.200832  0.403380  0.583124  0.616766\n",
      "3        4.0  0.699206         0.197936  0.343629  0.561504  0.575000\n",
      "4        5.0  0.637022         0.140936  0.445113  0.723082  0.620290\n",
      "5        6.0  0.748897         0.175371  0.344330  0.646536  0.568783\n",
      "6        7.0  3.431930         0.136081  0.071546  0.641778  0.135762\n",
      "7        8.0  5.515076         0.109387  0.022703  0.327110  0.080292\n"
     ]
    }
   ],
   "source": [
    "rf_scoring_df = pd.DataFrame([y_test,set_test.loc[:,'essay_set'],set_test.loc[:,'div'],rf.predict(x_test)]).transpose()\n",
    "rf_scoring_df.columns = ['actual','essay_set','div','prediction']\n",
    "\n",
    "lr_scoring_df = pd.DataFrame([y_test,set_test.loc[:,'essay_set'],set_test.loc[:,'div'],lr.predict(x_test)]).transpose()\n",
    "lr_scoring_df.columns = ['actual','essay_set','div','prediction']\n",
    "\n",
    "sv_scoring_df = pd.DataFrame([y_test,set_test.loc[:,'essay_set'],set_test.loc[:,'div'],sv.predict(x_test)]).transpose()\n",
    "sv_scoring_df.columns = ['actual','essay_set','div','prediction']\n",
    "\n",
    "def essay_set_metrics(df):\n",
    "    df['y_rescaled'] = df.actual * df['div']\n",
    "    df.y_rescaled = df.y_rescaled.astype(int)\n",
    "    df['prediction_rescaled'] = df.prediction * df['div']\n",
    "    df['prediction_round'] = df.prediction_rescaled.round()\n",
    "    df.prediction_round = df.prediction_round.astype(int)\n",
    "    set_df = pd.DataFrame(columns=['essay_set','RMSE','Normalized RMSE','Kappa','QW_Kappa','Accuracy'])\n",
    "    e_sets = np.unique(df.essay_set)\n",
    "    for e_s in e_sets:\n",
    "        df_s = df[df.essay_set == e_s]\n",
    "        original_score = df_s.y_rescaled.values\n",
    "        predicted_score = df_s.prediction_round.values\n",
    "        rmse = RMSE(original_score,predicted_score)\n",
    "        norm_rmse = RMSE(df_s.actual, df_s.prediction)\n",
    "        kappa = cohen_kappa_score(original_score,predicted_score, weights=None)\n",
    "        quad_kappa = cohen_kappa_score(original_score,predicted_score, weights='quadratic')\n",
    "        accuracy = accuracy_score(original_score,predicted_score)\n",
    "        set_df = set_df.append({'essay_set':e_s,'RMSE':rmse,'Normalized RMSE':norm_rmse,'Kappa':kappa,'QW_Kappa':quad_kappa,'Accuracy':accuracy},\n",
    "                             ignore_index=True)\n",
    "    return set_df\n",
    "\n",
    "\n",
    "print(essay_set_metrics(lr_scoring_df))\n",
    "print(essay_set_metrics(rf_scoring_df))\n",
    "print(essay_set_metrics(sv_scoring_df))"
   ]
  },
  {
   "cell_type": "markdown",
   "metadata": {},
   "source": [
    "# Mean quadratic weighted kappa"
   ]
  },
  {
   "cell_type": "code",
   "execution_count": 34,
   "metadata": {},
   "outputs": [
    {
     "name": "stdout",
     "output_type": "stream",
     "text": [
      "Linear Regression Average Quadratic Weighted Kappa  0.5865813419549195\n",
      "Random Forest Average Quadratic Weighted Kappa  0.7072280620879919\n",
      "Support Vector Regression Average Quadratic Weighted Kappa  0.5624911498540449\n"
     ]
    }
   ],
   "source": [
    "print(\"Linear Regression Average Quadratic Weighted Kappa \", np.mean(essay_set_metrics(lr_scoring_df)['QW_Kappa']))\n",
    "print(\"Random Forest Average Quadratic Weighted Kappa \", np.mean(essay_set_metrics(rf_scoring_df)['QW_Kappa']))\n",
    "print(\"Support Vector Regression Average Quadratic Weighted Kappa \", np.mean(essay_set_metrics(sv_scoring_df)['QW_Kappa']))"
   ]
  },
  {
   "cell_type": "markdown",
   "metadata": {},
   "source": [
    "# Feature importance"
   ]
  },
  {
   "cell_type": "code",
   "execution_count": 139,
   "metadata": {},
   "outputs": [
    {
     "data": {
      "image/png": "[encoded data removed]",
      "text/plain": [
       "<Figure size 432x288 with 1 Axes>"
      ]
     },
     "metadata": {
      "needs_background": "light"
     },
     "output_type": "display_data"
    }
   ],
   "source": [
    "import pylab as plt\n",
    "import seaborn as sns\n",
    "\n",
    "\n",
    "feature_dict = {\n",
    "    'lexical':['words_length_4','words_length_6','words_length_8','words_length_10','words_length_12','mean_word_length','variance_word_length','type_token_ratio','vocab_size'],\n",
    "    'length':['essay_length','num_words','num_sentences','mean_sentence_length','num_characters','fourth_root_num_characters'],\n",
    "    'occurence':['num_commas','num_periods','num_exclaim','num_question','num_semicolon','num_colon'],\n",
    "    'style':['mean_trigram_tfTF', 'mean_fourgram_tfTF','pos_trigram_ratio','pos_fourgram_ratio','yules_k','connectives'],\n",
    "    'syntax':['max_height','var_height','very_short_sentences','short_sentences','medium_sentences','long_sentences','variance_sentence_length','max_height','sum_heights','mean_height'],\n",
    "    'reading_score':['flesch_kincaid_grade_level', 'flesch_reading_ease','gunning_fog_index', 'coleman_liau_index','automated_readability_index', 'lix', 'gulpease_index','wiener_sachtextformel'],\n",
    "    'identification':['essay_set']\n",
    "               }\n",
    "d = dict()\n",
    "for key, value in feature_dict.items():\n",
    "    for item in value:\n",
    "        d[item] = key\n",
    "    \n",
    "feature_importances = pd.DataFrame(rf.feature_importances_, index = trainingdata.columns[:-3], columns=['importance']).sort_values('importance',ascending=False)\n",
    "feature_importances['rank'] = np.argsort(-feature_importances.importance)\n",
    "feature_importances['feature'] = feature_importances.index\n",
    "feature_importances['category'] = feature_importances['feature'].map(d)\n",
    "feature_plot_data = feature_importances[feature_importances['rank'] < 10]\n",
    "feature_plot_data\n",
    "\n",
    "\n",
    "\n",
    "fig, ax = plt.subplots()\n",
    "\n",
    "g = sns.barplot(x='importance', y='feature', hue='category', ax=ax, data=feature_plot_data)\n",
    "# g = sns.catplot(x='importance', y='feature', hue='category', data=feature_plot_data,\n",
    "#                 height=5, kind=\"bar\")\n",
    "\n",
    "def change_width(ax, new_value) :\n",
    "    for patch in ax.patches :\n",
    "        current_width = patch.get_height()\n",
    "        diff = current_width - new_value\n",
    "\n",
    "        # we change the bar width\n",
    "        patch.set_height(new_value)\n",
    "\n",
    "        # we recenter the bar\n",
    "        patch.set_y(patch.get_y() + diff * .5)\n",
    "\n",
    "change_width(ax, .4)\n",
    "plt.title(\"Ten Most Important Features\")\n",
    "sns.despine(left=True)\n",
    "ax.yaxis.set_ticks_position('none') \n",
    "\n",
    "plt.show()\n",
    "\n",
    "fig = g.figure\n",
    "fig.savefig('feature_importance.png' ,bbox_inches=\"tight\")\n"
   ]
  },
  {
   "cell_type": "markdown",
   "metadata": {},
   "source": [
    "# Grid search code (commented out for brevity)"
   ]
  },
  {
   "cell_type": "code",
   "execution_count": null,
   "metadata": {},
   "outputs": [],
   "source": [
    "# # # Create the parameter grid based on the results of random search \n",
    "# param_grid = {\n",
    "#     'n_estimators': [500],\n",
    "#     'min_samples_split': [10, 12],\n",
    "#     'min_samples_leaf': [2,3],\n",
    "#     'max_features': ['auto'],\n",
    "#     'max_depth': [40, 44],\n",
    "#     'bootstrap': [True]  \n",
    "# }\n",
    "# # Create a based model\n",
    "# rf = RandomForestRegressor()\n",
    "# # Instantiate the grid search model\n",
    "# grid_search = GridSearchCV(estimator = rf, param_grid = param_grid, \n",
    "#                           cv = 3, n_jobs = -1, verbose = 2)\n",
    "# grid_search.fit(x_train, y_train)"
   ]
  },
  {
   "cell_type": "code",
   "execution_count": 10,
   "metadata": {},
   "outputs": [],
   "source": [
    "# grid = {\n",
    "#     'kernel': ['linear','rbf'],\n",
    "#     'gamma': ['auto'],\n",
    "#     'C':[0.1,1]\n",
    "# }\n",
    "\n",
    "# sv = svm.SVR()\n",
    "\n",
    "# sv_grid = GridSearchCV(estimator = sv, param_grid= grid, cv = 3, verbose=4, n_jobs = -1)\n",
    "# sv_grid.fit(x_train, y_train)"
   ]
  }
 ],
 "metadata": {
  "kernelspec": {
   "display_name": "Python 3",
   "language": "python",
   "name": "python3"
  },
  "language_info": {
   "codemirror_mode": {
    "name": "ipython",
    "version": 3
   },
   "file_extension": ".py",
   "mimetype": "text/x-python",
   "name": "python",
   "nbconvert_exporter": "python",
   "pygments_lexer": "ipython3",
   "version": "3.6.6"
  }
 },
 "nbformat": 4,
 "nbformat_minor": 2
}
